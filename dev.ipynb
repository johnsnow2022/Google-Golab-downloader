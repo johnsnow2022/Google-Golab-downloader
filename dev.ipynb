{
  "nbformat": 4,
  "nbformat_minor": 0,
  "metadata": {
    "colab": {
      "provenance": []
    },
    "kernelspec": {
      "name": "python3",
      "display_name": "Python 3"
    },
    "language_info": {
      "name": "python"
    }
  },
  "cells": [
    {
      "cell_type": "code",
      "execution_count": null,
      "metadata": {
        "id": "6MejYjT0dDBm"
      },
      "outputs": [],
      "source": [
        "from google.colab import drive\n",
        "drive.mount('/content/gdrive')\n",
        "root_path = 'gdrive/My Drive/'"
      ]
    },
    {
      "cell_type": "code",
      "source": [
        "file_url = input(\"Enter the URL of the file: \")\n",
        "save_as_name = input(\"Enter the desired name for the file (including extension): \")\n",
        "save_directory =\"/content/gdrive/MyDrive/\""
      ],
      "metadata": {
        "id": "9j9vlj2WdMi5"
      },
      "execution_count": null,
      "outputs": []
    },
    {
      "cell_type": "code",
      "source": [
        "import time\n",
        "!wget -O \"{save_directory}{save_as_name}\" \"{file_url}\"\n",
        "time.sleep(30)\n",
        "print(\"\\n check your gdrive\")"
      ],
      "metadata": {
        "id": "YtYYKVBjdkMd"
      },
      "execution_count": null,
      "outputs": []
    }
  ]
}